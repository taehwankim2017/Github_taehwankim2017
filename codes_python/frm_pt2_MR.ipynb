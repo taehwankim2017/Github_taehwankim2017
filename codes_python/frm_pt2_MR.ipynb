{
 "cells": [
  {
   "cell_type": "markdown",
   "metadata": {},
   "source": [
    "This is a notebook to implement the formulas in Market Risk study of FRM part2.<br>"
   ]
  },
  {
   "cell_type": "markdown",
   "metadata": {},
   "source": [
    "***"
   ]
  },
  {
   "cell_type": "markdown",
   "metadata": {},
   "source": [
    "Importing Libraries part"
   ]
  },
  {
   "cell_type": "code",
   "execution_count": 1,
   "metadata": {},
   "outputs": [],
   "source": [
    "import statistics\n",
    "import math"
   ]
  },
  {
   "cell_type": "markdown",
   "metadata": {},
   "source": [
    "***"
   ]
  },
  {
   "cell_type": "markdown",
   "metadata": {},
   "source": [
    "Defining arithmatic mean and geometric mean by built-in library."
   ]
  },
  {
   "cell_type": "code",
   "execution_count": 2,
   "metadata": {},
   "outputs": [],
   "source": [
    "def averages(numbers):\n",
    "    # Arithmetic mean\n",
    "    arithmetic_mean = statistics.mean(numbers)\n",
    "    \n",
    "    # Geometric mean (using statistics module, Python 3.8+)\n",
    "    # To avoid error due to the version of Python, we use try-except!\n",
    "    try:\n",
    "        geometric_mean = statistics.geometric_mean(numbers)\n",
    "    except AttributeError:\n",
    "        # For older Python versions, use manual calculation\n",
    "        logs = [math.log(x) for x in numbers]\n",
    "        geometric_mean = math.exp(sum(logs) / len(numbers))\n",
    "    \n",
    "    return arithmetic_mean, geometric_mean"
   ]
  },
  {
   "cell_type": "markdown",
   "metadata": {},
   "source": [
    "Testing the output of arith & geom mean functions"
   ]
  },
  {
   "cell_type": "code",
   "execution_count": 3,
   "metadata": {},
   "outputs": [
    {
     "name": "stdout",
     "output_type": "stream",
     "text": [
      "Arithmetic mean: 15\n",
      "Geometric mean: 13.025855423486762\n"
     ]
    }
   ],
   "source": [
    "# Example usage\n",
    "nums = [5, 10, 15, 20, 25]\n",
    "arith, geom = averages(nums)\n",
    "\n",
    "print(f\"Arithmetic mean: {arith}\")\n",
    "print(f\"Geometric mean: {geom}\")"
   ]
  }
 ],
 "metadata": {
  "kernelspec": {
   "display_name": "base",
   "language": "python",
   "name": "python3"
  },
  "language_info": {
   "codemirror_mode": {
    "name": "ipython",
    "version": 3
   },
   "file_extension": ".py",
   "mimetype": "text/x-python",
   "name": "python",
   "nbconvert_exporter": "python",
   "pygments_lexer": "ipython3",
   "version": "3.12.7"
  }
 },
 "nbformat": 4,
 "nbformat_minor": 2
}
